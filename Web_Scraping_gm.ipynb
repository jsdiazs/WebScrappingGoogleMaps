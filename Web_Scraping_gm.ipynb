{
 "cells": [
  {
   "cell_type": "markdown",
   "id": "4d27cb35-fde3-40b4-b9b8-e019f5eae158",
   "metadata": {},
   "source": [
    "# **Web Scraping a Google Maps**"
   ]
  },
  {
   "cell_type": "markdown",
   "id": "24169e2f-450b-4606-a0de-ddb9d68c13d1",
   "metadata": {},
   "source": [
    "Notebook para realizar web scraping a gmaps"
   ]
  },
  {
   "cell_type": "code",
   "execution_count": 1,
   "id": "e36b306c-7ecc-433c-ae0c-4a5c873fb866",
   "metadata": {},
   "outputs": [],
   "source": [
    "from selenium import webdriver\n",
    "from selenium.webdriver.common.by import By\n",
    "\n",
    "from selenium.common.exceptions import (TimeoutException, NoSuchElementException)\n",
    "from selenium.webdriver.support.ui import WebDriverWait #Ejecutar cierto tipos de pausas\n",
    "from selenium.webdriver.support import expected_conditions as EC\n",
    "\n",
    "import pandas as pd\n",
    "import time"
   ]
  },
  {
   "cell_type": "markdown",
   "id": "ddaffc41-25b5-4eee-a4a2-bb8c8d09439d",
   "metadata": {},
   "source": [
    "## 1. Paso: Abrir el explorador"
   ]
  },
  {
   "cell_type": "code",
   "execution_count": 2,
   "id": "e8493dd9-23b3-4021-8cb5-5f113ab68e19",
   "metadata": {},
   "outputs": [],
   "source": [
    "driver = webdriver.Chrome()"
   ]
  },
  {
   "cell_type": "markdown",
   "id": "cf875b30-2215-440f-bede-9bfbd2de542a",
   "metadata": {},
   "source": [
    "## 2. Paso: Abrir la URL a realizar web scraping"
   ]
  },
  {
   "cell_type": "code",
   "execution_count": 3,
   "id": "1697ff71-e9a2-4abc-925c-f1cfda6e28ad",
   "metadata": {},
   "outputs": [],
   "source": [
    "search_term = 'restaurantes'"
   ]
  },
  {
   "cell_type": "code",
   "execution_count": 4,
   "id": "84bace36-e001-4884-803d-19c47684eccc",
   "metadata": {},
   "outputs": [],
   "source": [
    "url = f\"https://www.google.com/maps/search/{search_term}\"\n",
    "driver.get(url)"
   ]
  },
  {
   "cell_type": "markdown",
   "id": "6afb2665-68cc-4a99-bcff-6b654a7cd457",
   "metadata": {},
   "source": [
    "## 3. Paso: Aplicar la n cantidad de scroll"
   ]
  },
  {
   "cell_type": "code",
   "execution_count": 5,
   "id": "f50b38b7-1f61-455e-96c1-9c849740fea1",
   "metadata": {},
   "outputs": [],
   "source": [
    "full_elements = driver.find_element(By.CSS_SELECTOR, \"div[role='feed']\") #Esta parte esta encargada de hacer el scroll por todas las opciones que tenemos, adjunto en la imagen"
   ]
  },
  {
   "cell_type": "code",
   "execution_count": 6,
   "id": "676b5079-98a6-4cff-8ffb-a461a2888d70",
   "metadata": {},
   "outputs": [],
   "source": [
    "driver.execute_script(\"arguments[0].scrollBy(0,500);\", full_elements) #Hacemos el scroll automaticamente"
   ]
  },
  {
   "cell_type": "markdown",
   "id": "55acac2d-f9d1-4c3e-9333-2b2e3ec39e8f",
   "metadata": {},
   "source": [
    "## 4. Paso: Extraer todos los elementos "
   ]
  },
  {
   "cell_type": "code",
   "execution_count": 7,
   "id": "c320171b-4ee1-44ae-bb23-fdc5dc3eeb27",
   "metadata": {},
   "outputs": [],
   "source": [
    "li_elements = driver.find_elements(By.CSS_SELECTOR,\"div[role='feed'] > div > div[jsaction]:not([aria-label])\") #Extraemos todos los elementos menos el aria-label que era un resultado que no nos interesaba"
   ]
  },
  {
   "cell_type": "code",
   "execution_count": 8,
   "id": "b5ec75d2-7850-45f0-995d-c3502040f159",
   "metadata": {},
   "outputs": [
    {
     "data": {
      "text/plain": [
       "<selenium.webdriver.remote.webelement.WebElement (session=\"204e36881b289f5f8763bccbb5f91944\", element=\"f.3096495EC024034F5295FBDC98973EBE.d.AE3C142D0D0B140818E831844336FA9A.e.4\")>"
      ]
     },
     "execution_count": 8,
     "metadata": {},
     "output_type": "execute_result"
    }
   ],
   "source": [
    "li_elements[0]"
   ]
  },
  {
   "cell_type": "markdown",
   "id": "65c48ebc-af0a-4285-a2ed-1d6c2eb78da4",
   "metadata": {},
   "source": [
    "## 5. Paso: Dar click al elemento"
   ]
  },
  {
   "cell_type": "code",
   "execution_count": 9,
   "id": "50d36397-7d7b-4f78-a942-1706f8c98e07",
   "metadata": {},
   "outputs": [],
   "source": [
    "li_elements[0].click()"
   ]
  },
  {
   "cell_type": "code",
   "execution_count": 10,
   "id": "dfdd5b34-3d61-4734-995c-26753acffe09",
   "metadata": {},
   "outputs": [],
   "source": [
    "##Puede que nuestro script corra mas rapido que la interfaz por lo que necesitamos las pausas que mencionamos\n",
    "new_card = WebDriverWait(driver,10).until(\n",
    "    EC.presence_of_element_located((By.CSS_SELECTOR,'div[role=\"main\"][aria-label]'))\n",
    ")                                       "
   ]
  },
  {
   "cell_type": "markdown",
   "id": "9528581f-63cc-4d5f-8011-529af9fd2bee",
   "metadata": {},
   "source": [
    "## 6. Paso: Extraer información"
   ]
  },
  {
   "cell_type": "code",
   "execution_count": 11,
   "id": "67729c32-9f5a-42f0-992e-b441bb3d32ed",
   "metadata": {},
   "outputs": [
    {
     "data": {
      "text/plain": [
       "'Restaurante El Gourmet de Coke'"
      ]
     },
     "execution_count": 11,
     "metadata": {},
     "output_type": "execute_result"
    }
   ],
   "source": [
    "titulo = new_card.find_elements(By.TAG_NAME, 'h1')\n",
    "titulo[0].text"
   ]
  },
  {
   "cell_type": "code",
   "execution_count": 12,
   "id": "46422c0c-1722-4a55-8e8f-d64e21619c04",
   "metadata": {},
   "outputs": [
    {
     "data": {
      "text/plain": [
       "'\\ue0c8\\nTv. 33 #51a Sur-40 a 51a Sur-2, Tv. 33 #16, Bogotá'"
      ]
     },
     "execution_count": 12,
     "metadata": {},
     "output_type": "execute_result"
    }
   ],
   "source": [
    "direcciion = new_card.find_element(By.CSS_SELECTOR, 'button[data-item-id=\"address\"]')\n",
    "direcciion.text"
   ]
  },
  {
   "cell_type": "code",
   "execution_count": 13,
   "id": "88dff7ff-e908-4355-81a3-3b0b56e65540",
   "metadata": {},
   "outputs": [],
   "source": [
    "try:\n",
    "    phone = new_card.find_element(By.CSS_SELECTOR, 'button[data-item-id*=\"phone\"]') # el * despues del id es como para que busque informacion adicional de phone:\n",
    "    phone.text\n",
    "except NoSuchElementException:\n",
    "    phone = \"No tiene numero de telefono\""
   ]
  },
  {
   "cell_type": "code",
   "execution_count": 14,
   "id": "ec00b1e1-543a-4ccd-a398-18b9de58eff7",
   "metadata": {},
   "outputs": [
    {
     "data": {
      "text/plain": [
       "'\\ue0b0\\n314 3907981'"
      ]
     },
     "execution_count": 14,
     "metadata": {},
     "output_type": "execute_result"
    }
   ],
   "source": [
    "phone.text"
   ]
  },
  {
   "cell_type": "code",
   "execution_count": null,
   "id": "faff56ef-4462-44dc-bd89-0cb1225bd0a2",
   "metadata": {},
   "outputs": [],
   "source": []
  }
 ],
 "metadata": {
  "kernelspec": {
   "display_name": "Python 3 (ipykernel)",
   "language": "python",
   "name": "python3"
  },
  "language_info": {
   "codemirror_mode": {
    "name": "ipython",
    "version": 3
   },
   "file_extension": ".py",
   "mimetype": "text/x-python",
   "name": "python",
   "nbconvert_exporter": "python",
   "pygments_lexer": "ipython3",
   "version": "3.10.9"
  }
 },
 "nbformat": 4,
 "nbformat_minor": 5
}
